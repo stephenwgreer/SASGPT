{
 "cells": [
  {
   "cell_type": "code",
   "execution_count": 10,
   "metadata": {},
   "outputs": [],
   "source": [
    "import requests\n",
    "import re\n",
    "import urllib.request\n",
    "from bs4 import BeautifulSoup\n",
    "from collections import deque\n",
    "from html.parser import HTMLParser\n",
    "from urllib.parse import urlparse\n",
    "import os\n",
    "import pandas as pd\n",
    "import tiktoken\n",
    "import openai\n",
    "import numpy as np\n",
    "from openai.embeddings_utils import distances_from_embeddings, cosine_similarity\n",
    "from ast import literal_eval\n",
    "import time\n",
    "import tiktoken\n",
    "import openai\n",
    "from dotenv import load_dotenv\n",
    "\n",
    "load_dotenv()\n",
    "\n",
    "openai.api_key = os.getenv(\"OPENAI_API_KEY\")\n",
    "\n",
    "df = pd.read_csv('processed/scraped.csv', index_col=0)"
   ]
  },
  {
   "cell_type": "code",
   "execution_count": 11,
   "metadata": {},
   "outputs": [
    {
     "name": "stdout",
     "output_type": "stream",
     "text": [
      "(702, 3)\n"
     ]
    }
   ],
   "source": [
    "################################################################################\n",
    "### Create an embeddings column for the text\n",
    "################################################################################\n",
    "\n",
    "df['embeddings'] = df.text.apply(lambda x: openai.Embedding.create(input=x, engine='text-embedding-ada-002')['data'][0]['embedding'])\n",
    "df.to_csv('processed/embeddings.csv')\n",
    "df.head()\n",
    "print(df.shape)"
   ]
  },
  {
   "cell_type": "code",
   "execution_count": 8,
   "metadata": {},
   "outputs": [
    {
     "name": "stdout",
     "output_type": "stream",
     "text": [
      "There are 594 rows to process.\n"
     ]
    }
   ],
   "source": [
    "num_rows = df.shape[0]\n",
    "print(f\"There are {num_rows} rows to process.\")"
   ]
  },
  {
   "cell_type": "code",
   "execution_count": 12,
   "metadata": {},
   "outputs": [
    {
     "data": {
      "text/html": [
       "<div>\n",
       "<style scoped>\n",
       "    .dataframe tbody tr th:only-of-type {\n",
       "        vertical-align: middle;\n",
       "    }\n",
       "\n",
       "    .dataframe tbody tr th {\n",
       "        vertical-align: top;\n",
       "    }\n",
       "\n",
       "    .dataframe thead th {\n",
       "        text-align: right;\n",
       "    }\n",
       "</style>\n",
       "<table border=\"1\" class=\"dataframe\">\n",
       "  <thead>\n",
       "    <tr style=\"text-align: right;\">\n",
       "      <th></th>\n",
       "      <th>text</th>\n",
       "      <th>n_tokens</th>\n",
       "      <th>embeddings</th>\n",
       "    </tr>\n",
       "  </thead>\n",
       "  <tbody>\n",
       "    <tr>\n",
       "      <th>0</th>\n",
       "      <td>1. SAS® Intelligent Decisioning: Administrator...</td>\n",
       "      <td>291</td>\n",
       "      <td>[0.009492049925029278, -0.005739135667681694, ...</td>\n",
       "    </tr>\n",
       "    <tr>\n",
       "      <th>1</th>\n",
       "      <td>. . . . . . . . . 8 Micro Analytic Score Servi...</td>\n",
       "      <td>266</td>\n",
       "      <td>[-0.014548034407198429, -0.0112478481605649, 0...</td>\n",
       "    </tr>\n",
       "    <tr>\n",
       "      <th>2</th>\n",
       "      <td>. . . . . 18 Properties for Third-Party Subjec...</td>\n",
       "      <td>283</td>\n",
       "      <td>[0.015586013905704021, 0.00428341468796134, 0....</td>\n",
       "    </tr>\n",
       "    <tr>\n",
       "      <th>3</th>\n",
       "      <td>. . . . . . . . . . . . . . . . . . . . . . . ...</td>\n",
       "      <td>274</td>\n",
       "      <td>[-0.005160830449312925, 0.017014339566230774, ...</td>\n",
       "    </tr>\n",
       "    <tr>\n",
       "      <th>4</th>\n",
       "      <td>10. sas.decisions.clearOutputOnlyDataGridSubDe...</td>\n",
       "      <td>424</td>\n",
       "      <td>[-0.011280180886387825, -0.004952616523951292,...</td>\n",
       "    </tr>\n",
       "  </tbody>\n",
       "</table>\n",
       "</div>"
      ],
      "text/plain": [
       "                                                text  n_tokens  \\\n",
       "0  1. SAS® Intelligent Decisioning: Administrator...       291   \n",
       "1  . . . . . . . . . 8 Micro Analytic Score Servi...       266   \n",
       "2  . . . . . 18 Properties for Third-Party Subjec...       283   \n",
       "3  . . . . . . . . . . . . . . . . . . . . . . . ...       274   \n",
       "4  10. sas.decisions.clearOutputOnlyDataGridSubDe...       424   \n",
       "\n",
       "                                          embeddings  \n",
       "0  [0.009492049925029278, -0.005739135667681694, ...  \n",
       "1  [-0.014548034407198429, -0.0112478481605649, 0...  \n",
       "2  [0.015586013905704021, 0.00428341468796134, 0....  \n",
       "3  [-0.005160830449312925, 0.017014339566230774, ...  \n",
       "4  [-0.011280180886387825, -0.004952616523951292,...  "
      ]
     },
     "execution_count": 12,
     "metadata": {},
     "output_type": "execute_result"
    }
   ],
   "source": [
    "df=pd.read_csv('processed/embeddings.csv', index_col=0)\n",
    "df['embeddings'] = df['embeddings'].apply(literal_eval).apply(np.array)\n",
    "\n",
    "df.head()"
   ]
  }
 ],
 "metadata": {
  "kernelspec": {
   "display_name": "Python 3",
   "language": "python",
   "name": "python3"
  },
  "language_info": {
   "codemirror_mode": {
    "name": "ipython",
    "version": 3
   },
   "file_extension": ".py",
   "mimetype": "text/x-python",
   "name": "python",
   "nbconvert_exporter": "python",
   "pygments_lexer": "ipython3",
   "version": "3.10.11"
  },
  "orig_nbformat": 4
 },
 "nbformat": 4,
 "nbformat_minor": 2
}
